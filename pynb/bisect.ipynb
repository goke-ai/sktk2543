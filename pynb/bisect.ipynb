{
 "cells": [
  {
   "cell_type": "markdown",
   "metadata": {},
   "source": [
    "# Bisection Method"
   ]
  },
  {
   "cell_type": "markdown",
   "metadata": {},
   "source": [
    "Differential Equation\n",
    "V * dc/dt = W - Q * c - k * V * sqrt(c)\n",
    "\n",
    "At Steady State\n",
    "f(c) = W/V - Q*c/V - k*sqrt(c)\n",
    "\n",
    "Different wrt c\n",
    "f'(c) = -Q/V - k/2/(c^.5)"
   ]
  },
  {
   "cell_type": "code",
   "execution_count": 1,
   "metadata": {},
   "outputs": [],
   "source": [
    "# Develop Bisection Method to find the Root"
   ]
  },
  {
   "cell_type": "code",
   "execution_count": 2,
   "metadata": {},
   "outputs": [],
   "source": [
    "def bisect(f,xl,xu,es=0.0001,maxit=50,**kwds):\n",
    "    f1 = f(xl,**kwds)\n",
    "    f2 = f(xu,**kwds)\n",
    "    test = f1*f2\n",
    "    if test > 0:\n",
    "        raise Exception('no sign change')\n",
    "    \n",
    "    iter = 0\n",
    "    xr = xl\n",
    "    while (1):\n",
    "        xrold = xr\n",
    "        xr = (xl + xu)/2\n",
    "        iter = iter +1\n",
    "        if xr != 0:\n",
    "            ea = abs((xr-xrold)/xr)*100\n",
    "        f1 = f(xl,**kwds)\n",
    "        f2 = f(xu,**kwds)\n",
    "        test = f1*f2\n",
    "        if test < 0:\n",
    "            xu=xr\n",
    "        elif test > 0:\n",
    "            xl=xr\n",
    "        else:\n",
    "            ea=0\n",
    "\n",
    "        if ea <= es or iter >= maxit:\n",
    "            break       \n",
    "    \n",
    "    root = xr    \n",
    "    return (root, ea, iter)"
   ]
  },
  {
   "cell_type": "code",
   "execution_count": 3,
   "metadata": {},
   "outputs": [],
   "source": [
    "# anonymous functions\n",
    "# denpend on global variables V,Q,W,k\n",
    "func = lambda c: W/V - Q*c/V - k* c**.5\n",
    "\n",
    "# received is local variable V,Q,W,k through keyword argument\n",
    "funcX = lambda c,**kwds: kwds['W']/kwds['V'] - kwds['Q']*c/kwds['V'] - kwds['k']* c**.5\n"
   ]
  },
  {
   "cell_type": "code",
   "execution_count": 4,
   "metadata": {},
   "outputs": [
    {
     "name": "stdout",
     "output_type": "stream",
     "text": "call func\nroot= 2.999997138977051 ea= 9.536752259018191e-05 iteration= 21\n"
    }
   ],
   "source": [
    "V=1e6; Q=1e5; W=1e6; k=0.2\n",
    "xl=0; xu=6\n",
    "\n",
    "print('call func')\n",
    "(root, ea, iter) = bisect(func,xl,xu)\n",
    "\n",
    "print('root=',root, 'ea=',ea, 'iteration=',iter)"
   ]
  },
  {
   "cell_type": "code",
   "execution_count": 5,
   "metadata": {},
   "outputs": [
    {
     "name": "stdout",
     "output_type": "stream",
     "text": "call funcX\nroot= 2.999997138977051 ea= 9.536752259018191e-05 iteration= 21\n"
    }
   ],
   "source": [
    "xl=0\n",
    "xu=6\n",
    "\n",
    "print('call funcX')\n",
    "(root, ea, iter) = bisect(funcX,xl,xu,V=1e6,Q=1e5,W=1e6,k=0.2)\n",
    "\n",
    "print('root=',root, 'ea=',ea, 'iteration=',iter)"
   ]
  },
  {
   "cell_type": "code",
   "execution_count": 8,
   "metadata": {},
   "outputs": [
    {
     "name": "stdout",
     "output_type": "stream",
     "text": "call funcX\nroot= 0.001464842353016138 ea= 9.536752259018191e-05 iteration= 32\n"
    }
   ],
   "source": [
    "# change: V=1e8\n",
    "xl=0\n",
    "xu=6\n",
    "\n",
    "print('call funcX')\n",
    "(root, ea, iter) = bisect(funcX,xl,xu,V=1e8,Q=1e5,W=1e6,k=0.2)\n",
    "\n",
    "print('root=',root, 'ea=',ea, 'iteration=',iter)"
   ]
  },
  {
   "cell_type": "code",
   "execution_count": null,
   "metadata": {},
   "outputs": [],
   "source": []
  }
 ],
 "metadata": {
  "kernelspec": {
   "display_name": "Python 3.8.2 64-bit",
   "language": "python",
   "name": "python38264bit462c7655e8b549ee8c319362c2b47822"
  },
  "language_info": {
   "codemirror_mode": {
    "name": "ipython",
    "version": 3
   },
   "file_extension": ".py",
   "mimetype": "text/x-python",
   "name": "python",
   "nbconvert_exporter": "python",
   "pygments_lexer": "ipython3",
   "version": "3.8.2-final"
  }
 },
 "nbformat": 4,
 "nbformat_minor": 4
}